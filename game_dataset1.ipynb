{
  "nbformat": 4,
  "nbformat_minor": 0,
  "metadata": {
    "colab": {
      "name": "game_dataset1.ipynb",
      "provenance": []
    },
    "kernelspec": {
      "name": "python3",
      "display_name": "Python 3"
    },
    "language_info": {
      "name": "python"
    }
  },
  "cells": [
    {
      "cell_type": "code",
      "execution_count": 16,
      "metadata": {
        "colab": {
          "base_uri": "https://localhost:8080/"
        },
        "id": "vLV9S3yH8XW2",
        "outputId": "40df48a2-e3f4-4890-fc05-22af7096d6a6"
      },
      "outputs": [
        {
          "output_type": "stream",
          "name": "stdout",
          "text": [
            "\r0% [Working]\r            \rHit:1 https://cloud.r-project.org/bin/linux/ubuntu bionic-cran40/ InRelease\n",
            "Ign:2 https://developer.download.nvidia.com/compute/cuda/repos/ubuntu1804/x86_64  InRelease\n",
            "Hit:3 http://ppa.launchpad.net/c2d4u.team/c2d4u4.0+/ubuntu bionic InRelease\n",
            "Get:4 http://security.ubuntu.com/ubuntu bionic-security InRelease [88.7 kB]\n",
            "Hit:5 http://archive.ubuntu.com/ubuntu bionic InRelease\n",
            "Ign:6 https://developer.download.nvidia.com/compute/machine-learning/repos/ubuntu1804/x86_64  InRelease\n",
            "Hit:7 https://developer.download.nvidia.com/compute/cuda/repos/ubuntu1804/x86_64  Release\n",
            "Hit:8 https://developer.download.nvidia.com/compute/machine-learning/repos/ubuntu1804/x86_64  Release\n",
            "Get:9 http://archive.ubuntu.com/ubuntu bionic-updates InRelease [88.7 kB]\n",
            "Hit:10 http://ppa.launchpad.net/cran/libgit2/ubuntu bionic InRelease\n",
            "Hit:11 http://ppa.launchpad.net/deadsnakes/ppa/ubuntu bionic InRelease\n",
            "Get:12 http://archive.ubuntu.com/ubuntu bionic-backports InRelease [74.6 kB]\n",
            "Hit:13 http://ppa.launchpad.net/graphics-drivers/ppa/ubuntu bionic InRelease\n",
            "Fetched 252 kB in 2s (102 kB/s)\n",
            "Reading package lists... Done\n"
          ]
        }
      ],
      "source": [
        "import os\n",
        "# Find the latest version of spark 3.0  from http://www-us.apache.org/dist/spark/ and enter as the spark version\n",
        "# For example:\n",
        "spark_version = 'spark-3.2.1'\n",
        "# spark_version = 'spark-3.<spark version>'\n",
        "os.environ['SPARK_VERSION']=spark_version\n",
        "\n",
        "# Install Spark and Java\n",
        "!apt-get update\n",
        "!apt-get install openjdk-11-jdk-headless -qq > /dev/null\n",
        "!wget -q http://www.apache.org/dist/spark/$SPARK_VERSION/$SPARK_VERSION-bin-hadoop2.7.tgz\n",
        "!tar xf $SPARK_VERSION-bin-hadoop2.7.tgz\n",
        "!pip install -q findspark\n",
        "\n",
        "# Set Environment Variables\n",
        "import os\n",
        "os.environ[\"JAVA_HOME\"] = \"/usr/lib/jvm/java-11-openjdk-amd64\"\n",
        "os.environ[\"SPARK_HOME\"] = f\"/content/{spark_version}-bin-hadoop2.7\"\n",
        "\n",
        "# Start a SparkSession\n",
        "import findspark\n",
        "findspark.init()"
      ]
    },
    {
      "cell_type": "code",
      "source": [
        "!wget https://jdbc.postgresql.org/download/postgresql-42.2.9.jar"
      ],
      "metadata": {
        "colab": {
          "base_uri": "https://localhost:8080/"
        },
        "id": "YT1hToXQfwIl",
        "outputId": "cee88658-20f9-4d95-fad4-b935127e7b85"
      },
      "execution_count": 17,
      "outputs": [
        {
          "output_type": "stream",
          "name": "stdout",
          "text": [
            "--2022-03-08 04:11:05--  https://jdbc.postgresql.org/download/postgresql-42.2.9.jar\n",
            "Resolving jdbc.postgresql.org (jdbc.postgresql.org)... 72.32.157.228, 2001:4800:3e1:1::228\n",
            "Connecting to jdbc.postgresql.org (jdbc.postgresql.org)|72.32.157.228|:443... connected.\n",
            "HTTP request sent, awaiting response... 200 OK\n",
            "Length: 914037 (893K) [application/java-archive]\n",
            "Saving to: ‘postgresql-42.2.9.jar.1’\n",
            "\n",
            "postgresql-42.2.9.j 100%[===================>] 892.61K  4.80MB/s    in 0.2s    \n",
            "\n",
            "2022-03-08 04:11:05 (4.80 MB/s) - ‘postgresql-42.2.9.jar.1’ saved [914037/914037]\n",
            "\n"
          ]
        }
      ]
    },
    {
      "cell_type": "code",
      "source": [
        "from pyspark.sql import SparkSession\n",
        "spark = SparkSession.builder.appName(\"Games\").getOrCreate()"
      ],
      "metadata": {
        "id": "Zafle-ibIaxM"
      },
      "execution_count": 18,
      "outputs": []
    },
    {
      "cell_type": "code",
      "source": [
        "from pyspark import SparkFiles\n",
        "from pyspark.sql.types import IntegerType\n",
        "# Load in tsv from S3 into a DataFrame\n",
        "url = \"https://s3.amazonaws.com/amazon-reviews-pds/tsv/amazon_reviews_us_Video_Games_v1_00.tsv.gz\"\n",
        "spark.sparkContext.addFile(url)\n",
        "\n",
        "df = spark.read.csv(SparkFiles.get('amazon_reviews_us_Video_Games_v1_00.tsv.gz'), sep='\\t', header=True, inferSchema=True)\n",
        "#df.show(10)\n",
        "\n",
        "print(df.count())\n",
        "df = df.dropna()\n",
        "print(df.count())\n",
        "df = df.dropDuplicates()\n",
        "print(df.count())\n",
        "\n",
        "df.show(10)\n"
      ],
      "metadata": {
        "colab": {
          "base_uri": "https://localhost:8080/"
        },
        "id": "OIk4SXqxJP-H",
        "outputId": "2affa158-e17c-446e-db80-4f625e472985"
      },
      "execution_count": 35,
      "outputs": [
        {
          "output_type": "stream",
          "name": "stdout",
          "text": [
            "1785997\n",
            "1785886\n",
            "1785886\n",
            "+-----------+-----------+--------------+----------+--------------+--------------------+----------------+-----------+-------------+-----------+----+-----------------+--------------------+--------------------+-----------+\n",
            "|marketplace|customer_id|     review_id|product_id|product_parent|       product_title|product_category|star_rating|helpful_votes|total_votes|vine|verified_purchase|     review_headline|         review_body|review_date|\n",
            "+-----------+-----------+--------------+----------+--------------+--------------------+----------------+-----------+-------------+-----------+----+-----------------+--------------------+--------------------+-----------+\n",
            "|         US|   26197704|R10010D6B1QM7U|B004HX5OFW|       8155204|Xbox 360 Slim AC ...|     Video Games|          1|            0|          0|   N|                Y|                 POS|I purchased this ...| 2013-03-28|\n",
            "|         US|   10409381|R100BI61LIKH2N|B000QW9D14|     583724133|Blue Dragon - Xbo...|     Video Games|          5|            1|          2|   N|                Y|              Gamers|My son wanted thi...| 2013-10-28|\n",
            "|         US|   39071377|R100TPJCYDYGBU|B00D3IKP7Y|     378642975|        Pokemon Ruby|     Video Games|          3|            1|          2|   N|                Y|             It's ok|Really difficult ...| 2013-12-31|\n",
            "|         US|   32826337|R1018OO9U6UUWO|B0094X28J0|     272196441|Nintendo Wii Remo...|     Video Games|          5|            0|          0|   N|                Y|Nothing like the ...|Just buy it, i tr...| 2014-03-21|\n",
            "|         US|   16385120|R102YIWZEIAXT9|B000UQAUWW|     694091073|Xbox 360 Console ...|     Video Games|          5|            2|          4|   N|                N|              review|I bought the 360 ...| 2007-11-29|\n",
            "|         US|   14198390|R1034S7FA21OI1|B004S5PBM0|     275810674|           Rocksmith|     Video Games|          5|            2|          2|   N|                Y|Rocksmith is the ...|I self-taught mys...| 2011-11-06|\n",
            "|         US|   16965219|R103LC8CTAHWZ6|B002EE7OKE|     852505908|Sin and Punishmen...|     Video Games|          2|            1|          1|   N|                Y|                 Meh|I heard so much a...| 2013-10-07|\n",
            "|         US|   48295356|R103PT7S4HRIP8|B003R7H5TC|     318359987|Need for Speed: H...|     Video Games|          2|            0|          0|   N|                Y|Not as great as p...|Not nearly as fun...| 2010-12-28|\n",
            "|         US|   21497984|R104RCQZYPYDXS|B000R3BNDI|     318965716|Lego Star Wars: T...|     Video Games|          5|            7|          8|   N|                N|  The Best Game Ever|Dude.  Star Wars....| 2008-02-28|\n",
            "|         US|   22595160|R105KZIXHZW63W|B000NKFEZI|     256274221|   Slingo Quest - PC|     Video Games|          5|            1|          1|   N|                Y|          Easy game.|Easy, layed back ...| 2013-02-04|\n",
            "+-----------+-----------+--------------+----------+--------------+--------------------+----------------+-----------+-------------+-----------+----+-----------------+--------------------+--------------------+-----------+\n",
            "only showing top 10 rows\n",
            "\n"
          ]
        }
      ]
    },
    {
      "cell_type": "code",
      "source": [
        "df.dtypes\n",
        "#string to int to date"
      ],
      "metadata": {
        "colab": {
          "base_uri": "https://localhost:8080/"
        },
        "id": "HwI1-YSucJwY",
        "outputId": "90c7728f-7b30-47a5-c1b8-ed29a9b71fd9"
      },
      "execution_count": 36,
      "outputs": [
        {
          "output_type": "execute_result",
          "data": {
            "text/plain": [
              "[('marketplace', 'string'),\n",
              " ('customer_id', 'int'),\n",
              " ('review_id', 'string'),\n",
              " ('product_id', 'string'),\n",
              " ('product_parent', 'int'),\n",
              " ('product_title', 'string'),\n",
              " ('product_category', 'string'),\n",
              " ('star_rating', 'int'),\n",
              " ('helpful_votes', 'int'),\n",
              " ('total_votes', 'int'),\n",
              " ('vine', 'string'),\n",
              " ('verified_purchase', 'string'),\n",
              " ('review_headline', 'string'),\n",
              " ('review_body', 'string'),\n",
              " ('review_date', 'string')]"
            ]
          },
          "metadata": {},
          "execution_count": 36
        }
      ]
    },
    {
      "cell_type": "markdown",
      "source": [
        "For each notebook (one dataset per notebook), complete the following:\n",
        "\n",
        "Count the number of records (rows) in the dataset.\n",
        "\n",
        "Transform the dataset to fit the tables in the schema file. Be sure the DataFrames match in data type and in column name.\n",
        "\n",
        "Load the DataFrames that correspond to tables into an RDS instance. Note: This process can take up to 10 minutes for each. Be sure that everything is correct before uploading."
      ],
      "metadata": {
        "id": "QeFqW_VsLkHK"
      }
    },
    {
      "cell_type": "code",
      "source": [
        "#Review #1\n",
        "review_df = df.select([\"review_id\", \"customer_id\", \"product_id\",\"product_parent\", \"review_date\"])\n",
        "review_df.show()"
      ],
      "metadata": {
        "colab": {
          "base_uri": "https://localhost:8080/"
        },
        "id": "MbEzGJxdMUpr",
        "outputId": "d9403d87-5e64-47d2-c544-bdbda529ff31"
      },
      "execution_count": 37,
      "outputs": [
        {
          "output_type": "stream",
          "name": "stdout",
          "text": [
            "+--------------+-----------+----------+--------------+-----------+\n",
            "|     review_id|customer_id|product_id|product_parent|review_date|\n",
            "+--------------+-----------+----------+--------------+-----------+\n",
            "|R10010D6B1QM7U|   26197704|B004HX5OFW|       8155204| 2013-03-28|\n",
            "|R100BI61LIKH2N|   10409381|B000QW9D14|     583724133| 2013-10-28|\n",
            "|R100TPJCYDYGBU|   39071377|B00D3IKP7Y|     378642975| 2013-12-31|\n",
            "|R1018OO9U6UUWO|   32826337|B0094X28J0|     272196441| 2014-03-21|\n",
            "|R102YIWZEIAXT9|   16385120|B000UQAUWW|     694091073| 2007-11-29|\n",
            "|R1034S7FA21OI1|   14198390|B004S5PBM0|     275810674| 2011-11-06|\n",
            "|R103LC8CTAHWZ6|   16965219|B002EE7OKE|     852505908| 2013-10-07|\n",
            "|R103PT7S4HRIP8|   48295356|B003R7H5TC|     318359987| 2010-12-28|\n",
            "|R104RCQZYPYDXS|   21497984|B000R3BNDI|     318965716| 2008-02-28|\n",
            "|R105KZIXHZW63W|   22595160|B000NKFEZI|     256274221| 2013-02-04|\n",
            "|R105W3ID5NHQ48|   43562425|B002I0JNK8|     930811126| 2011-07-07|\n",
            "|R106J0FROF1O34|   50248806|B0050SWUTQ|     861146594| 2014-03-14|\n",
            "|R10770OX7D4UYW|   25735311|B0029TSTAS|     905830339| 2010-01-22|\n",
            "|R1077Z2P6K2RHR|   48300130|B00004YC3N|     300166398| 2002-03-07|\n",
            "|R1080O4SCGC4KQ|   15054919|B0050SYY5E|     913095161| 2012-01-04|\n",
            "|R108JMURMSE9LT|   35277804|B001CM0PR8|     746149715| 2009-12-29|\n",
            "|R108W55K5VYTA2|   28386256|B00009KO3S|     962864917| 2003-08-05|\n",
            "|R108XCTHE11G0E|   24004574|B000G6IP5A|     643852322| 2013-11-25|\n",
            "|R108YXX9X92XRQ|   22976371|B00YY3OK0A|     884170609| 2015-08-14|\n",
            "|R109JIRGTR42YM|   21244408|B001GANUSC|     709915737| 2010-02-11|\n",
            "+--------------+-----------+----------+--------------+-----------+\n",
            "only showing top 20 rows\n",
            "\n"
          ]
        }
      ]
    },
    {
      "cell_type": "code",
      "source": [
        "from pyspark.sql.types import DateType\n",
        "review_df = review_df.withColumn(\"review_date\", review_df[\"review_date\"].cast(DateType()))\n",
        "review_df.show()"
      ],
      "metadata": {
        "colab": {
          "base_uri": "https://localhost:8080/"
        },
        "id": "Rxtgul8q2jQH",
        "outputId": "dc110d3e-f289-4811-c7c9-c28187c531b0"
      },
      "execution_count": 38,
      "outputs": [
        {
          "output_type": "stream",
          "name": "stdout",
          "text": [
            "+--------------+-----------+----------+--------------+-----------+\n",
            "|     review_id|customer_id|product_id|product_parent|review_date|\n",
            "+--------------+-----------+----------+--------------+-----------+\n",
            "|R10010D6B1QM7U|   26197704|B004HX5OFW|       8155204| 2013-03-28|\n",
            "|R100BI61LIKH2N|   10409381|B000QW9D14|     583724133| 2013-10-28|\n",
            "|R100TPJCYDYGBU|   39071377|B00D3IKP7Y|     378642975| 2013-12-31|\n",
            "|R1018OO9U6UUWO|   32826337|B0094X28J0|     272196441| 2014-03-21|\n",
            "|R102YIWZEIAXT9|   16385120|B000UQAUWW|     694091073| 2007-11-29|\n",
            "|R1034S7FA21OI1|   14198390|B004S5PBM0|     275810674| 2011-11-06|\n",
            "|R103LC8CTAHWZ6|   16965219|B002EE7OKE|     852505908| 2013-10-07|\n",
            "|R103PT7S4HRIP8|   48295356|B003R7H5TC|     318359987| 2010-12-28|\n",
            "|R104RCQZYPYDXS|   21497984|B000R3BNDI|     318965716| 2008-02-28|\n",
            "|R105KZIXHZW63W|   22595160|B000NKFEZI|     256274221| 2013-02-04|\n",
            "|R105W3ID5NHQ48|   43562425|B002I0JNK8|     930811126| 2011-07-07|\n",
            "|R106J0FROF1O34|   50248806|B0050SWUTQ|     861146594| 2014-03-14|\n",
            "|R10770OX7D4UYW|   25735311|B0029TSTAS|     905830339| 2010-01-22|\n",
            "|R1077Z2P6K2RHR|   48300130|B00004YC3N|     300166398| 2002-03-07|\n",
            "|R1080O4SCGC4KQ|   15054919|B0050SYY5E|     913095161| 2012-01-04|\n",
            "|R108JMURMSE9LT|   35277804|B001CM0PR8|     746149715| 2009-12-29|\n",
            "|R108W55K5VYTA2|   28386256|B00009KO3S|     962864917| 2003-08-05|\n",
            "|R108XCTHE11G0E|   24004574|B000G6IP5A|     643852322| 2013-11-25|\n",
            "|R108YXX9X92XRQ|   22976371|B00YY3OK0A|     884170609| 2015-08-14|\n",
            "|R109JIRGTR42YM|   21244408|B001GANUSC|     709915737| 2010-02-11|\n",
            "+--------------+-----------+----------+--------------+-----------+\n",
            "only showing top 20 rows\n",
            "\n"
          ]
        }
      ]
    },
    {
      "cell_type": "code",
      "source": [
        "review_df.dtypes"
      ],
      "metadata": {
        "colab": {
          "base_uri": "https://localhost:8080/"
        },
        "id": "RxE3BkAI3H3I",
        "outputId": "7c24c24f-e9b2-4b46-c745-7f2183fe8351"
      },
      "execution_count": 29,
      "outputs": [
        {
          "output_type": "execute_result",
          "data": {
            "text/plain": [
              "[('review_id', 'string'),\n",
              " ('customer_id', 'int'),\n",
              " ('product_id', 'string'),\n",
              " ('product_parent', 'int'),\n",
              " ('review_date', 'date')]"
            ]
          },
          "metadata": {},
          "execution_count": 29
        }
      ]
    },
    {
      "cell_type": "code",
      "source": [
        "#Product #1\n",
        "product_df = df.select([\"product_id\", \"product_title\"])\n",
        "product_df.show()"
      ],
      "metadata": {
        "colab": {
          "base_uri": "https://localhost:8080/"
        },
        "id": "xb462g9j_uQv",
        "outputId": "70166cd8-c2ae-493d-ea1d-76f68891b9b4"
      },
      "execution_count": 23,
      "outputs": [
        {
          "output_type": "stream",
          "name": "stdout",
          "text": [
            "+----------+--------------------+\n",
            "|product_id|       product_title|\n",
            "+----------+--------------------+\n",
            "|B001CXYMFS|Thrustmaster T-Fl...|\n",
            "|B00M920ND6|Tonsee 6 buttons ...|\n",
            "|B0029CSOD2|Hidden Mysteries:...|\n",
            "|B00GOOSV98|GelTabz Performan...|\n",
            "|B00Y074JOM|Zero Suit Samus a...|\n",
            "|B002UBI6W6|Psyclone Recharge...|\n",
            "|B008XHCLFO|Protection for yo...|\n",
            "|B00BRA9R6A|   Nerf 3DS XL Armor|\n",
            "|B009EPWJLA|One Piece: Pirate...|\n",
            "|B0000AV7GB|Playstation 2 Dan...|\n",
            "|B00008KTNN|Metal Arms: Glitc...|\n",
            "|B000A3IA0Y|72 Pin Connector ...|\n",
            "|B0053BQN34|uDraw Gametablet ...|\n",
            "|B002I0HIMI|NBA 2K12(Covers M...|\n",
            "|B0081EH12M|New Trigger Grips...|\n",
            "|B005FMLZQQ|Xbox 360 Media Re...|\n",
            "|B002BSA388|Super Mario Galaxy 2|\n",
            "|B00BUSLSAC|Nintendo 3DS XL -...|\n",
            "|B00KWF38AW|Captain Toad:  Tr...|\n",
            "|B00BRQJYA8|Lego Batman 2: DC...|\n",
            "+----------+--------------------+\n",
            "only showing top 20 rows\n",
            "\n"
          ]
        }
      ]
    },
    {
      "cell_type": "code",
      "source": [
        "#from pyspark.sql.types import IntegerType"
      ],
      "metadata": {
        "id": "p8Ls8C6qZ02N"
      },
      "execution_count": 23,
      "outputs": []
    },
    {
      "cell_type": "code",
      "source": [
        "#Customer #1\n",
        "customers_df = df.groupby(\"customer_id\").agg({\"customer_id\": \"count\"}).withColumnRenamed(\"count(customer_id)\", \"customer_count\")\n",
        "customers_df.show()"
      ],
      "metadata": {
        "colab": {
          "base_uri": "https://localhost:8080/"
        },
        "id": "dBQHDphyNqn0",
        "outputId": "7881b51b-7ef9-4049-ca3a-599b12ea1d7a"
      },
      "execution_count": 30,
      "outputs": [
        {
          "output_type": "stream",
          "name": "stdout",
          "text": [
            "+-----------+--------------+\n",
            "|customer_id|customer_count|\n",
            "+-----------+--------------+\n",
            "|   48670265|             1|\n",
            "|   49103216|             2|\n",
            "|    1131200|             1|\n",
            "|   43076447|             2|\n",
            "|   46261368|             1|\n",
            "|    4883305|             5|\n",
            "|   41192649|             1|\n",
            "|   40985731|             7|\n",
            "|   10437900|             2|\n",
            "|   22245671|             1|\n",
            "|    2574873|             1|\n",
            "|    4696154|             1|\n",
            "|    5621202|             1|\n",
            "|    5871933|             2|\n",
            "|   44089812|             1|\n",
            "|    2845910|             1|\n",
            "|    5274369|             1|\n",
            "|   39069693|             2|\n",
            "|     137793|             1|\n",
            "|   31914942|             3|\n",
            "+-----------+--------------+\n",
            "only showing top 20 rows\n",
            "\n"
          ]
        }
      ]
    },
    {
      "cell_type": "code",
      "source": [
        "from pyspark.sql.types import IntegerType\n",
        "customers_df = customers_df.withColumn(\"customer_count\", customers_df[\"customer_count\"].cast(IntegerType()))\n",
        "customers_df.show()"
      ],
      "metadata": {
        "colab": {
          "base_uri": "https://localhost:8080/"
        },
        "id": "YOKMt0rp4IdZ",
        "outputId": "0774ff78-cd22-4864-ab56-a7386943f95c"
      },
      "execution_count": 31,
      "outputs": [
        {
          "output_type": "stream",
          "name": "stdout",
          "text": [
            "+-----------+--------------+\n",
            "|customer_id|customer_count|\n",
            "+-----------+--------------+\n",
            "|   48670265|             1|\n",
            "|   49103216|             2|\n",
            "|    1131200|             1|\n",
            "|   43076447|             2|\n",
            "|   46261368|             1|\n",
            "|    4883305|             5|\n",
            "|   41192649|             1|\n",
            "|   40985731|             7|\n",
            "|   10437900|             2|\n",
            "|   22245671|             1|\n",
            "|    2574873|             1|\n",
            "|    4696154|             1|\n",
            "|    5621202|             1|\n",
            "|    5871933|             2|\n",
            "|   44089812|             1|\n",
            "|    2845910|             1|\n",
            "|    5274369|             1|\n",
            "|   39069693|             2|\n",
            "|     137793|             1|\n",
            "|   31914942|             3|\n",
            "+-----------+--------------+\n",
            "only showing top 20 rows\n",
            "\n"
          ]
        }
      ]
    },
    {
      "cell_type": "code",
      "source": [
        "review_df.printSchema()"
      ],
      "metadata": {
        "colab": {
          "base_uri": "https://localhost:8080/"
        },
        "id": "3j_LbUTFMp9g",
        "outputId": "a6cb8e60-4b20-4d79-a581-f9fab315ea1d"
      },
      "execution_count": 25,
      "outputs": [
        {
          "output_type": "stream",
          "name": "stdout",
          "text": [
            "root\n",
            " |-- review_id: string (nullable = true)\n",
            " |-- customer_id: integer (nullable = true)\n",
            " |-- product_id: string (nullable = true)\n",
            " |-- product_parent: integer (nullable = true)\n",
            " |-- review_date: string (nullable = true)\n",
            "\n"
          ]
        }
      ]
    },
    {
      "cell_type": "code",
      "source": [
        "#Customers #1\n",
        "vine_df = df.select([\"review_id\", \"star_rating\", \"helpful_votes\",\"total_votes\", \"vine\"])\n",
        "vine_df.show()"
      ],
      "metadata": {
        "colab": {
          "base_uri": "https://localhost:8080/"
        },
        "id": "3KswP6blKOsz",
        "outputId": "55a0a50e-7d9f-478e-8bd2-ebcc991a7fff"
      },
      "execution_count": 32,
      "outputs": [
        {
          "output_type": "stream",
          "name": "stdout",
          "text": [
            "+--------------+-----------+-------------+-----------+----+\n",
            "|     review_id|star_rating|helpful_votes|total_votes|vine|\n",
            "+--------------+-----------+-------------+-----------+----+\n",
            "| RTIS3L2M1F5SM|          5|            0|          0|   N|\n",
            "| R1ZV7R40OLHKD|          5|            0|          0|   N|\n",
            "|R3BH071QLH8QMC|          1|            0|          1|   N|\n",
            "|R127K9NTSXA2YH|          3|            0|          0|   N|\n",
            "|R32ZWUXDJPW27Q|          4|            0|          0|   N|\n",
            "|R3AQQ4YUKJWBA6|          1|            0|          0|   N|\n",
            "|R2F0POU5K6F73F|          5|            0|          0|   N|\n",
            "|R3VNR804HYSMR6|          5|            0|          0|   N|\n",
            "| R3GZTM72WA2QH|          5|            0|          0|   N|\n",
            "| RNQOY62705W1K|          4|            0|          0|   N|\n",
            "|R1VTIA3JTYBY02|          5|            0|          0|   N|\n",
            "|R29DOU8791QZL8|          1|            0|          0|   N|\n",
            "|R15DUT1VIJ9RJZ|          2|            0|          0|   N|\n",
            "|R3IMF2MQ3OU9ZM|          4|            0|          0|   N|\n",
            "|R23H79DHOZTYAU|          1|            1|          1|   N|\n",
            "| RIV24EQAIXA4O|          5|            0|          0|   N|\n",
            "|R3UCNGYDVN24YB|          5|            0|          0|   N|\n",
            "| RUL4H4XTTN2DY|          5|            0|          0|   N|\n",
            "|R20JF7Z4DHTNX5|          5|            0|          0|   N|\n",
            "|R2T1AJ5MFI2260|          4|            0|          0|   N|\n",
            "+--------------+-----------+-------------+-----------+----+\n",
            "only showing top 20 rows\n",
            "\n"
          ]
        }
      ]
    },
    {
      "cell_type": "code",
      "source": [
        "mode = \"append\"\n",
        "jdbc_url=\"jdbc:postgresql://database-1.cgsoovj0vnlg.us-west-2.rds.amazonaws.com\"\n",
        "config = {\"user\":\"postgres\", \"password\":\"AGautam4396\", \"driver\" :\"org.postgresql.Driver\"}"
      ],
      "metadata": {
        "id": "kxr74cKU7ser"
      },
      "execution_count": 42,
      "outputs": []
    },
    {
      "cell_type": "code",
      "source": [
        "review_df.write.jdbc(url=\"jdbc:postgresql://database-1.cgsoovj0vnlg.us-west-2.rds.amazonaws.com\", table=\"review_id_table\", mode=\"append\", properties= config)"
      ],
      "metadata": {
        "id": "INs-QUdW74A_"
      },
      "execution_count": 47,
      "outputs": []
    },
    {
      "cell_type": "code",
      "source": [
        "product_df.write.jdbc(url=\"jdbc:postgresql://database-1.cgsoovj0vnlg.us-west-2.rds.amazonaws.com\", table=\"products\", mode=\"append\", properties= config)"
      ],
      "metadata": {
        "id": "1ftpaqqL9YdN"
      },
      "execution_count": 46,
      "outputs": []
    },
    {
      "cell_type": "code",
      "source": [
        "customers_df.write.jdbc(url=\"jdbc:postgresql://database-1.cgsoovj0vnlg.us-west-2.rds.amazonaws.com\", table=\"customers\", mode=\"append\", properties= config)"
      ],
      "metadata": {
        "id": "-96z5DrD-G47"
      },
      "execution_count": null,
      "outputs": []
    },
    {
      "cell_type": "code",
      "source": [
        "vine_df.write.jdbc(url=\"jdbc:postgresql://database-1.cgsoovj0vnlg.us-west-2.rds.amazonaws.com\", table=\"vine_table\", mode=\"append\", properties= config)"
      ],
      "metadata": {
        "id": "vWZZL50W-Sod"
      },
      "execution_count": null,
      "outputs": []
    }
  ]
}