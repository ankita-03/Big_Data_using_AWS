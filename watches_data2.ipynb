{
  "nbformat": 4,
  "nbformat_minor": 0,
  "metadata": {
    "colab": {
      "name": "watches_data2.ipynb",
      "provenance": [],
      "authorship_tag": "ABX9TyN4xfE2uRoIr8YYH37F9+zS",
      "include_colab_link": true
    },
    "kernelspec": {
      "name": "python3",
      "display_name": "Python 3"
    },
    "language_info": {
      "name": "python"
    }
  },
  "cells": [
    {
      "cell_type": "markdown",
      "metadata": {
        "id": "view-in-github",
        "colab_type": "text"
      },
      "source": [
        "<a href=\"https://colab.research.google.com/github/ankita-03/big_data_proj/blob/main/watches_data2.ipynb\" target=\"_parent\"><img src=\"https://colab.research.google.com/assets/colab-badge.svg\" alt=\"Open In Colab\"/></a>"
      ]
    },
    {
      "cell_type": "code",
      "execution_count": 1,
      "metadata": {
        "colab": {
          "base_uri": "https://localhost:8080/"
        },
        "id": "5YhHi3rs-x72",
        "outputId": "8acc292d-41a9-4f5d-852b-4f7072c2993a"
      },
      "outputs": [
        {
          "output_type": "stream",
          "name": "stdout",
          "text": [
            "\r0% [Working]\r            \rIgn:1 https://developer.download.nvidia.com/compute/cuda/repos/ubuntu1804/x86_64  InRelease\n",
            "\r0% [Connecting to archive.ubuntu.com] [Connecting to security.ubuntu.com] [Wait\r                                                                               \rIgn:2 https://developer.download.nvidia.com/compute/machine-learning/repos/ubuntu1804/x86_64  InRelease\n",
            "\r0% [Connecting to archive.ubuntu.com] [Connecting to security.ubuntu.com] [Wait\r                                                                               \rHit:3 https://developer.download.nvidia.com/compute/cuda/repos/ubuntu1804/x86_64  Release\n",
            "Hit:4 https://developer.download.nvidia.com/compute/machine-learning/repos/ubuntu1804/x86_64  Release\n",
            "Get:5 https://cloud.r-project.org/bin/linux/ubuntu bionic-cran40/ InRelease [3,626 B]\n",
            "Get:6 http://security.ubuntu.com/ubuntu bionic-security InRelease [88.7 kB]\n",
            "Hit:8 http://archive.ubuntu.com/ubuntu bionic InRelease\n",
            "Hit:9 http://ppa.launchpad.net/c2d4u.team/c2d4u4.0+/ubuntu bionic InRelease\n",
            "Get:10 http://archive.ubuntu.com/ubuntu bionic-updates InRelease [88.7 kB]\n",
            "Hit:12 http://ppa.launchpad.net/cran/libgit2/ubuntu bionic InRelease\n",
            "Get:13 http://ppa.launchpad.net/deadsnakes/ppa/ubuntu bionic InRelease [15.9 kB]\n",
            "Get:14 http://archive.ubuntu.com/ubuntu bionic-backports InRelease [74.6 kB]\n",
            "Hit:15 http://ppa.launchpad.net/graphics-drivers/ppa/ubuntu bionic InRelease\n",
            "Get:16 http://security.ubuntu.com/ubuntu bionic-security/universe amd64 Packages [1,478 kB]\n",
            "Get:17 http://security.ubuntu.com/ubuntu bionic-security/restricted amd64 Packages [829 kB]\n",
            "Get:18 http://security.ubuntu.com/ubuntu bionic-security/main amd64 Packages [2,628 kB]\n",
            "Get:19 http://archive.ubuntu.com/ubuntu bionic-updates/restricted amd64 Packages [863 kB]\n",
            "Get:20 http://archive.ubuntu.com/ubuntu bionic-updates/universe amd64 Packages [2,256 kB]\n",
            "Get:21 http://archive.ubuntu.com/ubuntu bionic-updates/main amd64 Packages [3,067 kB]\n",
            "Get:22 http://ppa.launchpad.net/deadsnakes/ppa/ubuntu bionic/main amd64 Packages [45.3 kB]\n",
            "Fetched 11.4 MB in 6s (2,057 kB/s)\n",
            "Reading package lists... Done\n"
          ]
        }
      ],
      "source": [
        "import os\n",
        "# Find the latest version of spark 3.0  from http://www-us.apache.org/dist/spark/ and enter as the spark version\n",
        "# For example:\n",
        "spark_version = 'spark-3.0.3'\n",
        "# spark_version = 'spark-3.<spark version>'\n",
        "os.environ['SPARK_VERSION']=spark_version\n",
        "\n",
        "# Install Spark and Java\n",
        "!apt-get update\n",
        "!apt-get install openjdk-11-jdk-headless -qq > /dev/null\n",
        "!wget -q http://www.apache.org/dist/spark/$SPARK_VERSION/$SPARK_VERSION-bin-hadoop2.7.tgz\n",
        "!tar xf $SPARK_VERSION-bin-hadoop2.7.tgz\n",
        "!pip install -q findspark\n",
        "\n",
        "# Set Environment Variables\n",
        "import os\n",
        "os.environ[\"JAVA_HOME\"] = \"/usr/lib/jvm/java-11-openjdk-amd64\"\n",
        "os.environ[\"SPARK_HOME\"] = f\"/content/{spark_version}-bin-hadoop2.7\"\n",
        "\n",
        "# Start a SparkSession\n",
        "import findspark\n",
        "findspark.init()"
      ]
    },
    {
      "cell_type": "code",
      "source": [
        "!wget https://jdbc.postgresql.org/download/postgresql-42.2.16.jar"
      ],
      "metadata": {
        "colab": {
          "base_uri": "https://localhost:8080/"
        },
        "id": "aBxD0F1h_TOP",
        "outputId": "c2088927-20e9-4a35-d02d-e732a830aa0f"
      },
      "execution_count": 2,
      "outputs": [
        {
          "output_type": "stream",
          "name": "stdout",
          "text": [
            "--2022-03-10 01:20:23--  https://jdbc.postgresql.org/download/postgresql-42.2.16.jar\n",
            "Resolving jdbc.postgresql.org (jdbc.postgresql.org)... 72.32.157.228, 2001:4800:3e1:1::228\n",
            "Connecting to jdbc.postgresql.org (jdbc.postgresql.org)|72.32.157.228|:443... connected.\n",
            "HTTP request sent, awaiting response... 200 OK\n",
            "Length: 1002883 (979K) [application/java-archive]\n",
            "Saving to: ‘postgresql-42.2.16.jar’\n",
            "\n",
            "postgresql-42.2.16. 100%[===================>] 979.38K  5.82MB/s    in 0.2s    \n",
            "\n",
            "2022-03-10 01:20:23 (5.82 MB/s) - ‘postgresql-42.2.16.jar’ saved [1002883/1002883]\n",
            "\n"
          ]
        }
      ]
    },
    {
      "cell_type": "code",
      "source": [
        "from pyspark.sql import SparkSession\n",
        "spark = SparkSession.builder.appName(\"Watches\").getOrCreate()"
      ],
      "metadata": {
        "id": "Zafle-ibIaxM"
      },
      "execution_count": 3,
      "outputs": []
    },
    {
      "cell_type": "code",
      "source": [
        "from pyspark import SparkFiles\n",
        "from pyspark.sql.types import IntegerType\n",
        "# Load in tsv from S3 into a DataFrame\n",
        "url = \"https://s3.amazonaws.com/amazon-reviews-pds/tsv/amazon_reviews_us_Watches_v1_00.tsv.gz\"\n",
        "spark.sparkContext.addFile(url)\n",
        "\n",
        "df2 = spark.read.csv(SparkFiles.get('amazon_reviews_us_Watches_v1_00.tsv.gz'), sep='\\t', header=True, inferSchema=True)\n",
        "\n",
        "print(df2.count())\n",
        "df2 = df2.dropna()\n",
        "print(df2.count())\n",
        "df2 = df2.dropDuplicates()\n",
        "print(df2.count())\n",
        "\n",
        "df2.show(10)\n"
      ],
      "metadata": {
        "colab": {
          "base_uri": "https://localhost:8080/"
        },
        "id": "zhCBe4oP_kqg",
        "outputId": "df25ddf5-e983-480b-9611-a4ae5bc0c903"
      },
      "execution_count": 4,
      "outputs": [
        {
          "output_type": "stream",
          "name": "stdout",
          "text": [
            "960872\n",
            "960679\n",
            "960679\n",
            "+-----------+-----------+--------------+----------+--------------+--------------------+----------------+-----------+-------------+-----------+----+-----------------+--------------------+--------------------+-----------+\n",
            "|marketplace|customer_id|     review_id|product_id|product_parent|       product_title|product_category|star_rating|helpful_votes|total_votes|vine|verified_purchase|     review_headline|         review_body|review_date|\n",
            "+-----------+-----------+--------------+----------+--------------+--------------------+----------------+-----------+-------------+-----------+----+-----------------+--------------------+--------------------+-----------+\n",
            "|         US|   43765005|R1006OPQYUMAHS|B0000TIIZ0|     529990321|Timex Women's T47...|         Watches|          1|            4|          5|   N|                Y|   Not very happy...|[[ASIN:B0000TIIZ0...| 2008-03-05|\n",
            "|         US|   44007561|R1010XUX2AIF10|B004KTK2M8|      38406392|Leather Watchband...|         Watches|          5|            0|          0|   N|                Y|          Watch band|Excellent althoug...| 2013-04-11|\n",
            "|         US|   52805367|R102DONPK6YEGN|B00NHEU9U2|      33550162|Fanmis Men's Wate...|         Watches|          5|            0|          0|   N|                Y|Greatwatch. Price...|Great watch. Pric...| 2015-06-23|\n",
            "|         US|   18449245|R102N48HXFM9WY|B000PSQXWG|     517553139|Nautica Men's N14...|         Watches|          5|            0|          0|   N|                Y|      Very practical|I love the simpli...| 2013-02-04|\n",
            "|         US|   18106128|R1060WX8UX26JV|B0045H3K0G|     989815375|Columbia Men's CT...|         Watches|          2|            0|          0|   N|                Y|The buttons are t...|I've had the watc...| 2013-04-15|\n",
            "|         US|   44398606|R106D023EFXYHQ|B007900Q9O|     159678416|Citizen Quartz Go...|         Watches|          5|            0|          0|   N|                N|     Very nice watch|Compliments the d...| 2014-09-27|\n",
            "|         US|   44609431|R107WJY4V4IZ35|B008DZVXVE|     541585709|Swiss Legend Men'...|         Watches|          5|            0|          0|   N|                Y|         Great Watch|Nice look, excell...| 2012-12-21|\n",
            "|         US|    6507909|R10B275CIJ1QSG|B003WPUU0U|     386958467|G-SHOCK The GA 10...|         Watches|          4|            0|          0|   N|                Y|   wow this is great|in this price you...| 2013-10-23|\n",
            "|         US|   22307556|R10BIT0LX7BBYD|B00DBUVKP0|     578040401|Citizen Men's JY8...|         Watches|          4|            1|          2|   N|                N|More questions th...|Had it on for abo...| 2015-06-21|\n",
            "|         US|   18425532|R10C1EZ2LJLSKN|B0088131JK|     326602930|ADIDAS Performanc...|         Watches|          5|            0|          0|   N|                Y|          Five Stars|Excellent product...| 2015-04-24|\n",
            "+-----------+-----------+--------------+----------+--------------+--------------------+----------------+-----------+-------------+-----------+----+-----------------+--------------------+--------------------+-----------+\n",
            "only showing top 10 rows\n",
            "\n"
          ]
        }
      ]
    },
    {
      "cell_type": "code",
      "source": [
        "df2.dtypes"
      ],
      "metadata": {
        "colab": {
          "base_uri": "https://localhost:8080/"
        },
        "id": "EnjQyJkFAc2_",
        "outputId": "68306131-9fe5-4b29-ecc3-1b6384901b81"
      },
      "execution_count": 5,
      "outputs": [
        {
          "output_type": "execute_result",
          "data": {
            "text/plain": [
              "[('marketplace', 'string'),\n",
              " ('customer_id', 'int'),\n",
              " ('review_id', 'string'),\n",
              " ('product_id', 'string'),\n",
              " ('product_parent', 'int'),\n",
              " ('product_title', 'string'),\n",
              " ('product_category', 'string'),\n",
              " ('star_rating', 'int'),\n",
              " ('helpful_votes', 'int'),\n",
              " ('total_votes', 'int'),\n",
              " ('vine', 'string'),\n",
              " ('verified_purchase', 'string'),\n",
              " ('review_headline', 'string'),\n",
              " ('review_body', 'string'),\n",
              " ('review_date', 'string')]"
            ]
          },
          "metadata": {},
          "execution_count": 5
        }
      ]
    },
    {
      "cell_type": "code",
      "source": [
        "#Review #2\n",
        "review2_df = df2.select([\"review_id\", \"customer_id\", \"product_id\",\"product_parent\", \"review_date\"])\n",
        "review2_df.show()"
      ],
      "metadata": {
        "colab": {
          "base_uri": "https://localhost:8080/"
        },
        "id": "mhSOBG0PAcsz",
        "outputId": "61c54014-d407-4498-ded2-93544d48ba4e"
      },
      "execution_count": 6,
      "outputs": [
        {
          "output_type": "stream",
          "name": "stdout",
          "text": [
            "+--------------+-----------+----------+--------------+-----------+\n",
            "|     review_id|customer_id|product_id|product_parent|review_date|\n",
            "+--------------+-----------+----------+--------------+-----------+\n",
            "|R1006OPQYUMAHS|   43765005|B0000TIIZ0|     529990321| 2008-03-05|\n",
            "|R1010XUX2AIF10|   44007561|B004KTK2M8|      38406392| 2013-04-11|\n",
            "|R102DONPK6YEGN|   52805367|B00NHEU9U2|      33550162| 2015-06-23|\n",
            "|R102N48HXFM9WY|   18449245|B000PSQXWG|     517553139| 2013-02-04|\n",
            "|R1060WX8UX26JV|   18106128|B0045H3K0G|     989815375| 2013-04-15|\n",
            "|R106D023EFXYHQ|   44398606|B007900Q9O|     159678416| 2014-09-27|\n",
            "|R107WJY4V4IZ35|   44609431|B008DZVXVE|     541585709| 2012-12-21|\n",
            "|R10B275CIJ1QSG|    6507909|B003WPUU0U|     386958467| 2013-10-23|\n",
            "|R10BIT0LX7BBYD|   22307556|B00DBUVKP0|     578040401| 2015-06-21|\n",
            "|R10C1EZ2LJLSKN|   18425532|B0088131JK|     326602930| 2015-04-24|\n",
            "|R10EFKNXWK3DPX|   22150304|B00EXTRLMY|     325769741| 2015-08-05|\n",
            "|R10EVIW43OIYWF|    1875215|B005SSWKMK|     259094190| 2014-04-09|\n",
            "|R10EZ3YEUODPD0|   27053947|B000LVLBRY|     629880991| 2014-01-30|\n",
            "|R10HN9CWJDWYKL|   13039023|B005VSJKFC|     672990701| 2012-05-20|\n",
            "|R10HNXGG9ECK9E|    3690416|B00150VV48|     159881964| 2015-07-25|\n",
            "|R10I42JCWJBNAW|   28168179|B0096IQZPQ|     974866572| 2012-11-29|\n",
            "|R10IR51K0MG2QX|   50282767|B009XN2LSO|     292468981| 2014-05-06|\n",
            "|R10KR7KSLNPG06|   11828477|B00020J16M|     534451144| 2011-06-20|\n",
            "|R10L72T1ZXKS2C|   42288193|B001WAKQAQ|     456995001| 2014-01-15|\n",
            "|R10MU8Y3PBZBCC|   43743118|B005I700ZK|     615603214| 2012-08-27|\n",
            "+--------------+-----------+----------+--------------+-----------+\n",
            "only showing top 20 rows\n",
            "\n"
          ]
        }
      ]
    },
    {
      "cell_type": "code",
      "source": [
        "from pyspark.sql.types import DateType\n",
        "review2_df = review2_df.withColumn(\"review_date\", review2_df[\"review_date\"].cast(DateType()))\n",
        "review2_df.show()"
      ],
      "metadata": {
        "colab": {
          "base_uri": "https://localhost:8080/"
        },
        "id": "Tu3llRXGBkze",
        "outputId": "c33a34d4-bff8-412f-d346-c9fe42c0fc4f"
      },
      "execution_count": 7,
      "outputs": [
        {
          "output_type": "stream",
          "name": "stdout",
          "text": [
            "+--------------+-----------+----------+--------------+-----------+\n",
            "|     review_id|customer_id|product_id|product_parent|review_date|\n",
            "+--------------+-----------+----------+--------------+-----------+\n",
            "|R1006OPQYUMAHS|   43765005|B0000TIIZ0|     529990321| 2008-03-05|\n",
            "|R1010XUX2AIF10|   44007561|B004KTK2M8|      38406392| 2013-04-11|\n",
            "|R102DONPK6YEGN|   52805367|B00NHEU9U2|      33550162| 2015-06-23|\n",
            "|R102N48HXFM9WY|   18449245|B000PSQXWG|     517553139| 2013-02-04|\n",
            "|R1060WX8UX26JV|   18106128|B0045H3K0G|     989815375| 2013-04-15|\n",
            "|R106D023EFXYHQ|   44398606|B007900Q9O|     159678416| 2014-09-27|\n",
            "|R107WJY4V4IZ35|   44609431|B008DZVXVE|     541585709| 2012-12-21|\n",
            "|R10B275CIJ1QSG|    6507909|B003WPUU0U|     386958467| 2013-10-23|\n",
            "|R10BIT0LX7BBYD|   22307556|B00DBUVKP0|     578040401| 2015-06-21|\n",
            "|R10C1EZ2LJLSKN|   18425532|B0088131JK|     326602930| 2015-04-24|\n",
            "|R10EFKNXWK3DPX|   22150304|B00EXTRLMY|     325769741| 2015-08-05|\n",
            "|R10EVIW43OIYWF|    1875215|B005SSWKMK|     259094190| 2014-04-09|\n",
            "|R10EZ3YEUODPD0|   27053947|B000LVLBRY|     629880991| 2014-01-30|\n",
            "|R10HN9CWJDWYKL|   13039023|B005VSJKFC|     672990701| 2012-05-20|\n",
            "|R10HNXGG9ECK9E|    3690416|B00150VV48|     159881964| 2015-07-25|\n",
            "|R10I42JCWJBNAW|   28168179|B0096IQZPQ|     974866572| 2012-11-29|\n",
            "|R10IR51K0MG2QX|   50282767|B009XN2LSO|     292468981| 2014-05-06|\n",
            "|R10KR7KSLNPG06|   11828477|B00020J16M|     534451144| 2011-06-20|\n",
            "|R10L72T1ZXKS2C|   42288193|B001WAKQAQ|     456995001| 2014-01-15|\n",
            "|R10MU8Y3PBZBCC|   43743118|B005I700ZK|     615603214| 2012-08-27|\n",
            "+--------------+-----------+----------+--------------+-----------+\n",
            "only showing top 20 rows\n",
            "\n"
          ]
        }
      ]
    },
    {
      "cell_type": "code",
      "source": [
        "review2_df.dtypes"
      ],
      "metadata": {
        "colab": {
          "base_uri": "https://localhost:8080/"
        },
        "id": "9SrVXYlpBu7V",
        "outputId": "00b05f7b-0f7e-4db7-cd22-b15aeed251cb"
      },
      "execution_count": 8,
      "outputs": [
        {
          "output_type": "execute_result",
          "data": {
            "text/plain": [
              "[('review_id', 'string'),\n",
              " ('customer_id', 'int'),\n",
              " ('product_id', 'string'),\n",
              " ('product_parent', 'int'),\n",
              " ('review_date', 'date')]"
            ]
          },
          "metadata": {},
          "execution_count": 8
        }
      ]
    },
    {
      "cell_type": "code",
      "source": [
        "#Product #2\n",
        "product2_df = df2.select([\"product_id\", \"product_title\"])\n",
        "product2_df.show()"
      ],
      "metadata": {
        "colab": {
          "base_uri": "https://localhost:8080/"
        },
        "id": "uOxrfgYpB1t0",
        "outputId": "cc4ef3fe-9ede-41b6-86b8-f86df02eac08"
      },
      "execution_count": 9,
      "outputs": [
        {
          "output_type": "stream",
          "name": "stdout",
          "text": [
            "+----------+--------------------+\n",
            "|product_id|       product_title|\n",
            "+----------+--------------------+\n",
            "|B0000TIIZ0|Timex Women's T47...|\n",
            "|B004KTK2M8|Leather Watchband...|\n",
            "|B00NHEU9U2|Fanmis Men's Wate...|\n",
            "|B000PSQXWG|Nautica Men's N14...|\n",
            "|B0045H3K0G|Columbia Men's CT...|\n",
            "|B007900Q9O|Citizen Quartz Go...|\n",
            "|B008DZVXVE|Swiss Legend Men'...|\n",
            "|B003WPUU0U|G-SHOCK The GA 10...|\n",
            "|B00DBUVKP0|Citizen Men's JY8...|\n",
            "|B0088131JK|ADIDAS Performanc...|\n",
            "|B00EXTRLMY|Seiko Men's SNE27...|\n",
            "|B005SSWKMK|Casio Men's PRW-2...|\n",
            "|B000LVLBRY|NFL Kids' FF-CHI ...|\n",
            "|B005VSJKFC|Modus GA460.1000....|\n",
            "|B00150VV48|Casio General Men...|\n",
            "|B0096IQZPQ|Stuhrling Origina...|\n",
            "|B009XN2LSO|Xezo Unisex Archi...|\n",
            "|B00020J16M|Timex Ironman Sle...|\n",
            "|B001WAKQAQ|Skagen Ladies Wat...|\n",
            "|B005I700ZK|Kenneth Cole New ...|\n",
            "+----------+--------------------+\n",
            "only showing top 20 rows\n",
            "\n"
          ]
        }
      ]
    },
    {
      "cell_type": "code",
      "source": [
        "#Customer #2\n",
        "customers2_df = df2.groupby(\"customer_id\").agg({\"customer_id\": \"count\"}).withColumnRenamed(\"count(customer_id)\", \"customer_count\")\n",
        "customers2_df.show()"
      ],
      "metadata": {
        "colab": {
          "base_uri": "https://localhost:8080/"
        },
        "id": "gvLVFUfSB_Ay",
        "outputId": "f754da7f-6bf3-4fe5-af8e-8c7e58cdf3d5"
      },
      "execution_count": 10,
      "outputs": [
        {
          "output_type": "stream",
          "name": "stdout",
          "text": [
            "+-----------+--------------+\n",
            "|customer_id|customer_count|\n",
            "+-----------+--------------+\n",
            "|   12937860|             1|\n",
            "|   14327548|             4|\n",
            "|   22158149|             5|\n",
            "|   12828562|             2|\n",
            "|    4089580|             1|\n",
            "|   20097895|             1|\n",
            "|    2422277|             4|\n",
            "|   35523976|             2|\n",
            "|   14051742|             1|\n",
            "|   14404180|             5|\n",
            "|   12883856|             3|\n",
            "|    9942583|             2|\n",
            "|   38893812|             1|\n",
            "|   22754948|             1|\n",
            "|   51265055|             5|\n",
            "|   49225180|             1|\n",
            "|   16215726|             1|\n",
            "|   39948072|            20|\n",
            "|   14847189|             3|\n",
            "|   17207294|             2|\n",
            "+-----------+--------------+\n",
            "only showing top 20 rows\n",
            "\n"
          ]
        }
      ]
    },
    {
      "cell_type": "code",
      "source": [
        "from pyspark.sql.types import IntegerType\n",
        "customers2_df = customers2_df.withColumn(\"customer_count\", customers2_df[\"customer_count\"].cast(IntegerType()))\n",
        "customers2_df.show()"
      ],
      "metadata": {
        "colab": {
          "base_uri": "https://localhost:8080/"
        },
        "id": "d3fZS4nrCK0e",
        "outputId": "f334c811-36d0-41b1-8f96-e0454060a78d"
      },
      "execution_count": 11,
      "outputs": [
        {
          "output_type": "stream",
          "name": "stdout",
          "text": [
            "+-----------+--------------+\n",
            "|customer_id|customer_count|\n",
            "+-----------+--------------+\n",
            "|   12937860|             1|\n",
            "|   14327548|             4|\n",
            "|   22158149|             5|\n",
            "|   12828562|             2|\n",
            "|    4089580|             1|\n",
            "|   20097895|             1|\n",
            "|    2422277|             4|\n",
            "|   35523976|             2|\n",
            "|   14051742|             1|\n",
            "|   14404180|             5|\n",
            "|   12883856|             3|\n",
            "|    9942583|             2|\n",
            "|   38893812|             1|\n",
            "|   22754948|             1|\n",
            "|   51265055|             5|\n",
            "|   49225180|             1|\n",
            "|   16215726|             1|\n",
            "|   39948072|            20|\n",
            "|   14847189|             3|\n",
            "|   17207294|             2|\n",
            "+-----------+--------------+\n",
            "only showing top 20 rows\n",
            "\n"
          ]
        }
      ]
    },
    {
      "cell_type": "code",
      "source": [
        "#Vine #2\n",
        "vine2_df = df2.select([\"review_id\", \"star_rating\", \"helpful_votes\",\"total_votes\", \"vine\"])\n",
        "vine2_df.show()"
      ],
      "metadata": {
        "colab": {
          "base_uri": "https://localhost:8080/"
        },
        "id": "Vekw_4QuCi2H",
        "outputId": "4e18da86-51f5-48a6-8c4b-42bc3044f24b"
      },
      "execution_count": 12,
      "outputs": [
        {
          "output_type": "stream",
          "name": "stdout",
          "text": [
            "+--------------+-----------+-------------+-----------+----+\n",
            "|     review_id|star_rating|helpful_votes|total_votes|vine|\n",
            "+--------------+-----------+-------------+-----------+----+\n",
            "|R1006OPQYUMAHS|          1|            4|          5|   N|\n",
            "|R1010XUX2AIF10|          5|            0|          0|   N|\n",
            "|R102DONPK6YEGN|          5|            0|          0|   N|\n",
            "|R102N48HXFM9WY|          5|            0|          0|   N|\n",
            "|R1060WX8UX26JV|          2|            0|          0|   N|\n",
            "|R106D023EFXYHQ|          5|            0|          0|   N|\n",
            "|R107WJY4V4IZ35|          5|            0|          0|   N|\n",
            "|R10B275CIJ1QSG|          4|            0|          0|   N|\n",
            "|R10BIT0LX7BBYD|          4|            1|          2|   N|\n",
            "|R10C1EZ2LJLSKN|          5|            0|          0|   N|\n",
            "|R10EFKNXWK3DPX|          5|            0|          2|   N|\n",
            "|R10EVIW43OIYWF|          4|            2|          2|   N|\n",
            "|R10EZ3YEUODPD0|          5|            0|          0|   N|\n",
            "|R10HN9CWJDWYKL|          5|            0|          0|   N|\n",
            "|R10HNXGG9ECK9E|          4|            0|          0|   N|\n",
            "|R10I42JCWJBNAW|          5|            0|          1|   N|\n",
            "|R10IR51K0MG2QX|          5|            2|          2|   N|\n",
            "|R10KR7KSLNPG06|          5|            0|          1|   N|\n",
            "|R10L72T1ZXKS2C|          5|            0|          0|   N|\n",
            "|R10MU8Y3PBZBCC|          5|            0|          0|   N|\n",
            "+--------------+-----------+-------------+-----------+----+\n",
            "only showing top 20 rows\n",
            "\n"
          ]
        }
      ]
    },
    {
      "cell_type": "code",
      "source": [
        "from getpass import getpass\n",
        "password = getpass('Enter Database Password here')\n",
        "\n",
        "mode = \"append\"\n",
        "jdbc_url=\"jdbc:postgresql://database-1.cgsoovj0vnlg.us-west-2.rds.amazonaws.com:5432/database-1\"\n",
        "config = {\"user\":\"postgres\", \"password\":password, \"driver\" :\"org.postgresql.Driver\"}"
      ],
      "metadata": {
        "id": "BDYq_D1QDLHG",
        "colab": {
          "base_uri": "https://localhost:8080/"
        },
        "outputId": "05d04e74-8896-416f-8f3b-ec42385b7834"
      },
      "execution_count": 13,
      "outputs": [
        {
          "name": "stdout",
          "output_type": "stream",
          "text": [
            "Enter Database Password here··········\n"
          ]
        }
      ]
    },
    {
      "cell_type": "code",
      "source": [
        "review2_df.write.jdbc(url=\"jdbc:postgresql://database-1.cgsoovj0vnlg.us-west-2.rds.amazonaws.com\", table=\"review_id_table2\", mode=\"append\", properties= config)"
      ],
      "metadata": {
        "id": "gAfloPzaDOE7"
      },
      "execution_count": 15,
      "outputs": []
    },
    {
      "cell_type": "code",
      "source": [
        "product2_df.write.jdbc(url=\"jdbc:postgresql://database-1.cgsoovj0vnlg.us-west-2.rds.amazonaws.com\", table=\"products2\", mode=\"append\", properties= config)"
      ],
      "metadata": {
        "id": "_lWMHWOQDYKf"
      },
      "execution_count": null,
      "outputs": []
    },
    {
      "cell_type": "code",
      "source": [
        "customers2_df.write.jdbc(url=\"jdbc:postgresql://database-1.cgsoovj0vnlg.us-west-2.rds.amazonaws.com\", table=\"customers2\", mode=\"append\", properties= config)"
      ],
      "metadata": {
        "id": "MAdEzjJ4DenC"
      },
      "execution_count": null,
      "outputs": []
    },
    {
      "cell_type": "code",
      "source": [
        "vine2_df.write.jdbc(url=\"jdbc:postgresql://database-1.cgsoovj0vnlg.us-west-2.rds.amazonaws.com\", table=\"vine_table2\", mode=\"append\", properties= config)"
      ],
      "metadata": {
        "id": "KbO98PsBDjvJ"
      },
      "execution_count": null,
      "outputs": []
    }
  ]
}